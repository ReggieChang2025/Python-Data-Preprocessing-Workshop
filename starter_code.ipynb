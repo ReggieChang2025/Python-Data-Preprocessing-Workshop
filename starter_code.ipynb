{
 "cells": [
  {
   "cell_type": "markdown",
   "id": "8df1d6c1-20f9-48e4-adb8-789c52c65ed5",
   "metadata": {},
   "source": [
    "# Python Data Preprocessing Workshop\n",
    "From Excel to Python: Hands-on Data Analysis\n",
    "\n",
    "## SECTION 1: SETUP AND INSTALLATION"
   ]
  },
  {
   "cell_type": "code",
   "execution_count": null,
   "id": "d2430f6d-41e7-4f06-899f-68527a125b82",
   "metadata": {},
   "outputs": [],
   "source": [
    "# Import necessary libraries\n",
    "import pandas as pd\n",
    "import numpy as np\n",
    "import seaborn as sns\n",
    "import matplotlib.pyplot as plt\n",
    "\n",
    "# Set visualization styles\n",
    "sns.set(style=\"whitegrid\")\n",
    "plt.rcParams['figure.figsize'] = (10, 6)"
   ]
  },
  {
   "cell_type": "markdown",
   "id": "635d4426-b6d5-4b7f-82a1-470c9c3a7a03",
   "metadata": {},
   "source": [
    "## SECTION 2: DATA LOADING AND INITIAL ASSESSMENT\n",
    "\n",
    "### Exercise 1: Load the SuperStore dataset"
   ]
  },
  {
   "cell_type": "code",
   "execution_count": null,
   "id": "04750b06-8e37-44de-a335-6351d5f3c9fd",
   "metadata": {},
   "outputs": [],
   "source": [
    "# TODO: Load the superstore_sales.csv file \n",
    "df = pd.read_csv('superstore_sales.csv')\n",
    "\n",
    "# Display the first few rows to understand the data structure\n",
    "df.head()"
   ]
  },
  {
   "cell_type": "code",
   "execution_count": null,
   "id": "4912821a-a4f2-42db-8361-8cbbfc53d59c",
   "metadata": {},
   "outputs": [],
   "source": [
    "# Check the dimensions of the dataset (rows, columns)\n",
    "# TODO: Use the shape attribute to determine dataset size\n",
    "\n",
    "# Your code here:"
   ]
  },
  {
   "cell_type": "code",
   "execution_count": null,
   "id": "811ccb37-0096-4296-a337-900c25de38a5",
   "metadata": {},
   "outputs": [],
   "source": [
    "# Check column information\n",
    "# TODO: Use info() to display column names and data types\n",
    "\n",
    "# Your code here:"
   ]
  },
  {
   "cell_type": "code",
   "execution_count": null,
   "id": "4d9d3339-5cc9-4872-9f7b-603ff361a610",
   "metadata": {},
   "outputs": [],
   "source": [
    "# Display basic statistics\n",
    "# TODO: Use describe() to get summary statistics\n",
    "\n",
    "# Your code here:"
   ]
  },
  {
   "cell_type": "markdown",
   "id": "48271517-2d7f-4fde-ae82-479d65f90f96",
   "metadata": {},
   "source": [
    "### Exercise 2: Initial Data Assessment"
   ]
  },
  {
   "cell_type": "code",
   "execution_count": null,
   "id": "0b75f00b-4da6-443a-9e77-dfb1d708fefb",
   "metadata": {},
   "outputs": [],
   "source": [
    "# Check for missing values\n",
    "# TODO: Count missing values in each column\n",
    "\n",
    "# Your code here:"
   ]
  },
  {
   "cell_type": "code",
   "execution_count": null,
   "id": "85ae9af7-9b8f-4e8f-b9ce-ee8d19768741",
   "metadata": {},
   "outputs": [],
   "source": [
    "# Check for duplicates\n",
    "# TODO: Count duplicate rows\n",
    "\n",
    "# Your code here:"
   ]
  },
  {
   "cell_type": "code",
   "execution_count": null,
   "id": "144368f7-c3b5-4f28-bd0b-02aeada8069c",
   "metadata": {},
   "outputs": [],
   "source": [
    "# Fix date columns by converting to datetime\n",
    "# TODO: Convert Order Date and Ship Date to datetime objects (DMY format)\n",
    "\n",
    "# Your code here:"
   ]
  },
  {
   "cell_type": "markdown",
   "id": "58ac7221-fd0b-4092-b159-3d9ab714276e",
   "metadata": {},
   "source": [
    "## SECTION 3: DATA CLEANING AND TRANSFORMATION\n",
    "\n",
    "### Exercise 3: Data Cleaning"
   ]
  },
  {
   "cell_type": "code",
   "execution_count": null,
   "id": "be5ccfba-3938-46fe-b6d2-5bbc0409c95b",
   "metadata": {},
   "outputs": [],
   "source": [
    "# Remove rows with missing Region values\n",
    "# TODO: Create a new DataFrame without missing Region values\n",
    "\n",
    "# Your code here:"
   ]
  },
  {
   "cell_type": "code",
   "execution_count": null,
   "id": "f705ae6f-4cdd-437c-94bc-9cc61890b8e1",
   "metadata": {},
   "outputs": [],
   "source": [
    "# Remove duplicate rows\n",
    "# TODO: Remove duplicate rows from the dataset\n",
    "\n",
    "# Your code here:"
   ]
  },
  {
   "cell_type": "code",
   "execution_count": null,
   "id": "7de364f9-5eef-4340-99fe-58b3ca4fff7f",
   "metadata": {},
   "outputs": [],
   "source": [
    "# Format Sales and Profit columns to two decimal places\n",
    "# TODO: Round Sales and Profit to 2 decimal places\n",
    "\n",
    "# Your code here:"
   ]
  },
  {
   "cell_type": "code",
   "execution_count": null,
   "id": "691e76f4-779b-47a8-aa20-ea374dab43d9",
   "metadata": {},
   "outputs": [],
   "source": [
    "# Sort data by Region and Sales (descending)\n",
    "# TODO: Sort the dataset by Region (ascending) and Sales (descending)\n",
    "\n",
    "# Your code here:"
   ]
  },
  {
   "cell_type": "code",
   "execution_count": null,
   "id": "32fe6757-b969-414f-bfca-046c7ba58953",
   "metadata": {},
   "outputs": [],
   "source": [
    "# Filtering examples\n",
    "# TODO: Create filters for different subsets of data\n",
    "\n",
    "# Example: Filter to show only the East region\n",
    "east_region = df_clean[df_clean['Region'] == 'East']"
   ]
  },
  {
   "cell_type": "code",
   "execution_count": null,
   "id": "ea49dbfb-9f66-409b-ade8-95014e69062e",
   "metadata": {},
   "outputs": [],
   "source": [
    "# TODO: Filter to show sales above average\n",
    "\n",
    "# Your code here:"
   ]
  },
  {
   "cell_type": "code",
   "execution_count": null,
   "id": "78a50752-820c-44b4-8435-2419e3ea7fa0",
   "metadata": {},
   "outputs": [],
   "source": [
    "# TODO: Filter by date to show only last quarter of the dataset\n",
    "\n",
    "# Your code here:"
   ]
  },
  {
   "cell_type": "markdown",
   "id": "fa2f3e23-fe9c-4668-8e8b-8195768c7c32",
   "metadata": {},
   "source": [
    "### Exercise 4: Data Transformation"
   ]
  },
  {
   "cell_type": "code",
   "execution_count": null,
   "id": "99d5d26f-4ee4-424a-965e-c08f2d22a621",
   "metadata": {},
   "outputs": [],
   "source": [
    "# Create calculated columns\n",
    "# TODO: Add Profit Margin % column (Profit / Sales)\n",
    "\n",
    "# Your code here:"
   ]
  },
  {
   "cell_type": "code",
   "execution_count": null,
   "id": "ff3e0843-6b33-46fd-b60f-e403020aaec6",
   "metadata": {},
   "outputs": [],
   "source": [
    "# TODO: Calculate Days to Ship (difference between Ship Date and Order Date)\n",
    "\n",
    "# Your code here:"
   ]
  },
  {
   "cell_type": "code",
   "execution_count": null,
   "id": "4aeb3481-cc03-4b55-a2f8-bbc38acaa7d3",
   "metadata": {},
   "outputs": [],
   "source": [
    "# Load the zip code data and join with main dataset\n",
    "# TODO: Load the zip_codes.csv file\n",
    "zip_data = pd.read_csv('zip_codes.csv')\n",
    "\n",
    "# TODO: Convert zip codes to strings in both dataframes\n",
    "\n",
    "# Your code here:"
   ]
  },
  {
   "cell_type": "code",
   "execution_count": null,
   "id": "637b4694-0f49-4c80-b74f-08da7954d3c1",
   "metadata": {},
   "outputs": [],
   "source": [
    "# TODO: Map zip codes to cities and states\n",
    "\n",
    "# Your code here:"
   ]
  },
  {
   "cell_type": "code",
   "execution_count": null,
   "id": "e593a10c-4ff9-47b9-82e0-42c3f4ac14ba",
   "metadata": {},
   "outputs": [],
   "source": [
    "# Create categorical columns\n",
    "# TODO: Create the Margin Category column using a function\n",
    "\n",
    "def profit_margin_category(margin):\n",
    "    # TODO: Complete this function to categorize profit margins\n",
    "    pass\n",
    "\n",
    "# TODO: Apply the function to create the Margin Category column\n",
    "    \n",
    "# Your code here:"
   ]
  },
  {
   "cell_type": "code",
   "execution_count": null,
   "id": "22f3493e-b0f9-4633-9baf-de5d4bf7856b",
   "metadata": {},
   "outputs": [],
   "source": [
    "# TODO: Create the Shipping Speed column\n",
    "\n",
    "# Your code here:"
   ]
  },
  {
   "cell_type": "code",
   "execution_count": null,
   "id": "2e26813c-d64c-4721-92a3-3c9f2d4aadae",
   "metadata": {},
   "outputs": [],
   "source": [
    "# TODO: Create the Sales Performance column\n",
    "\n",
    "# Your code here:"
   ]
  },
  {
   "cell_type": "markdown",
   "id": "e8353493-f512-45e2-a408-3ab5fb954351",
   "metadata": {},
   "source": [
    "## SECTION 4: DATA ANALYSIS AND VISUALIZATION\n",
    "\n",
    "### Exercise 5: Summary Tables (Python's version of Pivot Tables)"
   ]
  },
  {
   "cell_type": "code",
   "execution_count": null,
   "id": "2f2d5e40-f570-4c60-a383-a37fab020896",
   "metadata": {},
   "outputs": [],
   "source": [
    "# Group by Region and calculate sum of Sales\n",
    "# TODO: Create a summary of Sales by Region\n",
    "\n",
    "# Your code here:"
   ]
  },
  {
   "cell_type": "code",
   "execution_count": null,
   "id": "3097bb99-9cc5-47f6-9cf8-d8326b8afcf1",
   "metadata": {},
   "outputs": [],
   "source": [
    "# Group by Region and Order Date (by month)\n",
    "# TODO: Create a monthly sales analysis by region\n",
    "\n",
    "# Your code here:"
   ]
  },
  {
   "cell_type": "code",
   "execution_count": null,
   "id": "615e5847-4750-4933-8baf-970cbadf148c",
   "metadata": {},
   "outputs": [],
   "source": [
    "# Group by multiple dimensions with custom aggregation\n",
    "# TODO: Create a detailed summary by Region and Category\n",
    "\n",
    "# Your code here:"
   ]
  },
  {
   "cell_type": "markdown",
   "id": "7d3e318f-8d42-4595-97ed-18840a48f045",
   "metadata": {},
   "source": [
    "### Exercise 6: Visualization (Python's version of Charts)"
   ]
  },
  {
   "cell_type": "code",
   "execution_count": null,
   "id": "e0339ff0-f755-4a27-8217-77ca1f6127ef",
   "metadata": {},
   "outputs": [],
   "source": [
    "# Bar chart of sales by region\n",
    "# TODO: Create a bar chart of sales by region\n",
    "\n",
    "# Your code here:"
   ]
  },
  {
   "cell_type": "code",
   "execution_count": null,
   "id": "cbd547a6-70c3-47f9-85a5-c28aae69bed4",
   "metadata": {},
   "outputs": [],
   "source": [
    "# Line chart of monthly sales trends\n",
    "# TODO: Create a line chart of monthly sales trends by region\n",
    "\n",
    "# Your code here:"
   ]
  }
 ],
 "metadata": {
  "kernelspec": {
   "display_name": "Python [conda env:base] *",
   "language": "python",
   "name": "conda-base-py"
  },
  "language_info": {
   "codemirror_mode": {
    "name": "ipython",
    "version": 3
   },
   "file_extension": ".py",
   "mimetype": "text/x-python",
   "name": "python",
   "nbconvert_exporter": "python",
   "pygments_lexer": "ipython3",
   "version": "3.12.3"
  }
 },
 "nbformat": 4,
 "nbformat_minor": 5
}
